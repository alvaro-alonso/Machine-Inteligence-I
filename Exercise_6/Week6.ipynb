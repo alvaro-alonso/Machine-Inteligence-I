{
 "cells": [
  {
   "cell_type": "code",
   "execution_count": 1,
   "metadata": {},
   "outputs": [
    {
     "name": "stdout",
     "output_type": "stream",
     "text": [
      "train batch size: 600 x torch.Size([100, 784])\n",
      "test batch size: 1 x torch.Size([10000, 784])\n"
     ]
    }
   ],
   "source": [
    "import torch\n",
    "import torch.nn.functional as F\n",
    "from torchvision import datasets, transforms\n",
    "\n",
    "n_classes = 10\n",
    "batch_size = 100\n",
    "\n",
    "train_set, test_set = [\n",
    "    datasets.MNIST(\n",
    "        './',\n",
    "        train=train_flag,\n",
    "        download=True,\n",
    "        transform=transforms.Compose([\n",
    "            transforms.ToTensor(),\n",
    "            transforms.Lambda(lambda x: torch.flatten(x))\n",
    "        ]),\n",
    "    ) \n",
    "    for train_flag in [True, False]\n",
    "]\n",
    "\n",
    "train = torch.utils.data.DataLoader(train_set, batch_size=batch_size, shuffle=True)\n",
    "test = torch.utils.data.DataLoader(test_set, batch_size=test_set.__len__(), shuffle=True)\n",
    "\n",
    "train_example_data, train_example_targets = next(iter(train))\n",
    "test_example_data, test_example_targets = next(iter(test))\n",
    "\n",
    "print(f\"train batch size: {len(train)} x {train_example_data.shape}\")\n",
    "print(f\"test batch size: {len(test)} x {test_example_data.shape}\")"
   ]
  },
  {
   "cell_type": "markdown",
   "metadata": {},
   "source": [
    "# Excercise 1"
   ]
  },
  {
   "cell_type": "code",
   "execution_count": 2,
   "metadata": {},
   "outputs": [],
   "source": [
    "import numpy as np\n",
    "import torch.nn as nn\n",
    "import torch.optim as optim\n",
    "\n",
    "class Linear_Model(nn.Module):\n",
    "    def __init__(self):\n",
    "        super(Linear_Model, self).__init__()\n",
    "        self.linear = nn.Linear(784, 10)\n",
    "        self.linear.bias.data.fill_(0)\n",
    "        \n",
    "    def forward(self, x):\n",
    "        h = self.linear(x)\n",
    "        return F.softmax(h, dim=1) "
   ]
  },
  {
   "cell_type": "code",
   "execution_count": 3,
   "metadata": {},
   "outputs": [],
   "source": [
    "learning_rate = 0.5\n",
    "model = Linear_Model()    \n",
    "criterion = nn.CrossEntropyLoss()\n",
    "optimizer = optim.SGD(model.parameters(), lr=learning_rate)"
   ]
  },
  {
   "cell_type": "code",
   "execution_count": 4,
   "metadata": {},
   "outputs": [
    {
     "name": "stdout",
     "output_type": "stream",
     "text": [
      "epoch 0, loss 1.6058433055877686\n",
      "epoch 1, loss 1.583632230758667\n",
      "epoch 2, loss 1.560001015663147\n",
      "epoch 3, loss 1.5885703563690186\n",
      "epoch 4, loss 1.517427682876587\n",
      "epoch 5, loss 1.534970760345459\n",
      "epoch 6, loss 1.5581958293914795\n",
      "epoch 7, loss 1.548012375831604\n",
      "epoch 8, loss 1.529762625694275\n",
      "epoch 9, loss 1.5729281902313232\n",
      "epoch 10, loss 1.5379917621612549\n",
      "epoch 11, loss 1.5520325899124146\n",
      "epoch 12, loss 1.60878586769104\n",
      "epoch 13, loss 1.552700400352478\n",
      "epoch 14, loss 1.5559751987457275\n",
      "epoch 15, loss 1.5225961208343506\n"
     ]
    }
   ],
   "source": [
    "\n",
    "iterations = 10000\n",
    "epochs = iterations // len(train)\n",
    "test_data, test_targets = next(iter(test))\n",
    "\n",
    "train_acc = []\n",
    "test_acc = []\n",
    "\n",
    "def accuracy(pred, target):\n",
    "    winners = pred.argmax(dim=1)\n",
    "    corrects = (winners == target)\n",
    "    return corrects.sum().float() / float(target.size(0) )\n",
    "\n",
    "for epoch in range(epochs):\n",
    "    for idx, (data, target) in enumerate(train):\n",
    "        optimizer.zero_grad()\n",
    "\n",
    "        output = model(data)\n",
    "\n",
    "        loss = criterion(output, target)\n",
    "        # get gradients w.r.t to parameters\n",
    "        loss.backward()\n",
    "\n",
    "        # update parameters\n",
    "        optimizer.step()\n",
    "\n",
    "        if idx % 100 == 0:\n",
    "            train_accuracy = accuracy(output, target)\n",
    "            train_acc.append(train_accuracy.item())\n",
    "            \n",
    "            val_output = model(test_data)\n",
    "            test_accuracy = accuracy(val_output, test_targets)\n",
    "            test_acc.append(test_accuracy.item())\n",
    "        \n",
    "        \n",
    "    print('epoch {}, loss {}'.format(epoch, loss.item()))\n",
    "\n"
   ]
  },
  {
   "cell_type": "code",
   "execution_count": 5,
   "metadata": {},
   "outputs": [
    {
     "data": {
      "text/plain": [
       "<matplotlib.legend.Legend at 0x131b28160>"
      ]
     },
     "execution_count": 5,
     "metadata": {},
     "output_type": "execute_result"
    },
    {
     "data": {
      "image/png": "[encoded data removed]",
      "text/plain": [
       "<Figure size 432x288 with 1 Axes>"
      ]
     },
     "metadata": {
      "needs_background": "light"
     },
     "output_type": "display_data"
    }
   ],
   "source": [
    "import matplotlib.pyplot as plt\n",
    "\n",
    "%matplotlib inline\n",
    "\n",
    "epochs = range(len(train_acc))\n",
    "plt.plot(epochs, train_acc, label=\"Train Acc\")\n",
    "plt.plot(epochs, test_acc, label=\"Test Acc\")\n",
    "plt.legend()"
   ]
  },
  {
   "cell_type": "markdown",
   "metadata": {},
   "source": [
    "# Excercise 2"
   ]
  },
  {
   "cell_type": "code",
   "execution_count": 26,
   "metadata": {},
   "outputs": [],
   "source": [
    "# function replicated from: https://discuss.pytorch.org/t/implementing-truncated-normal-initializer/4778/20\n",
    "# not working quite ... need improvement\n",
    "def truncated_normal_(tensor, mean=0, std=1):\n",
    "    size = tensor.shape\n",
    "    tmp = tensor.new_empty(size + (4,)).normal_()\n",
    "    valid = (tmp < 2) & (tmp > -2)\n",
    "    ind = valid.max(-1, keepdim=True)[1]\n",
    "    tensor.data.copy_(tmp.gather(-1, ind).squeeze(-1))\n",
    "    tensor.data.mul_(std).add_(mean)\n",
    "    return tensor\n",
    "\n",
    "def weights_init(m):\n",
    "    classname = m.__class__.__name__\n",
    "    # for every Linear layer in a model..\n",
    "    if classname.find('Linear') != -1:\n",
    "        m.bias.data.fill_(0.1)\n",
    "        truncated_normal_(m.weight, 0, 0.01)\n",
    "        \n",
    "class MLP(nn.Module):\n",
    "    def __init__(self):\n",
    "        super(MLP, self).__init__()\n",
    "        self.linear1 = nn.Linear(784, 1500)\n",
    "        self.linear2 = nn.Linear(1500, 1500)\n",
    "        self.linear3 = nn.Linear(1500, 1500)\n",
    "        self.linear4 = nn.Linear(1500, 10)\n",
    "        self.apply(weights_init)\n",
    "        \n",
    "    def forward(self, x):\n",
    "        relu = nn.ReLU()\n",
    "        h1 = relu(self.linear1(x))\n",
    "        h2 = relu(self.linear2(h1))\n",
    "        h3 = relu(self.linear3(h2))\n",
    "        # the function softmax is not included as nn.CrossEntropyLoss applies a softmax (source: https://discuss.pytorch.org/t/pytorch-equivalence-to-sparse-softmax-cross-entropy-with-logits-in-tensorflow/18727/2)\n",
    "        return self.linear4(h3) \n",
    "    "
   ]
  },
  {
   "cell_type": "code",
   "execution_count": 28,
   "metadata": {},
   "outputs": [],
   "source": [
    "learning_rate, betas, eps = 0.001, [0.9, 0.999], 1e-8\n",
    "\n",
    "model = MLP()    \n",
    "criterion = nn.CrossEntropyLoss()\n",
    "optimizer = optim.Adam(model.parameters(), lr=learning_rate, betas=betas)"
   ]
  },
  {
   "cell_type": "code",
   "execution_count": 29,
   "metadata": {},
   "outputs": [
    {
     "name": "stdout",
     "output_type": "stream",
     "text": [
      "epoch 0, loss 0.11816820502281189\n",
      "epoch 1, loss 0.08549151569604874\n",
      "epoch 2, loss 0.05404572933912277\n",
      "epoch 3, loss 0.0293661430478096\n",
      "epoch 4, loss 0.09473295509815216\n",
      "epoch 5, loss 0.013790199533104897\n",
      "epoch 6, loss 0.013209978118538857\n",
      "epoch 7, loss 0.056404534727334976\n",
      "epoch 8, loss 0.0439533032476902\n",
      "epoch 9, loss 0.015315396711230278\n",
      "epoch 10, loss 0.022290358319878578\n",
      "epoch 11, loss 0.033046528697013855\n",
      "epoch 12, loss 0.004483635537326336\n",
      "epoch 13, loss 0.005156689789146185\n",
      "epoch 14, loss 0.0025474654976278543\n",
      "epoch 15, loss 0.0012081601889804006\n",
      "epoch 16, loss 0.00028488587122410536\n",
      "epoch 17, loss 0.0014893546467646956\n",
      "epoch 18, loss 0.00010053966252598912\n",
      "epoch 19, loss 0.001051666447892785\n",
      "epoch 20, loss 1.745878762449138e-05\n",
      "epoch 21, loss 0.004360769409686327\n",
      "epoch 22, loss 0.0029462939128279686\n",
      "epoch 23, loss 0.01227305456995964\n",
      "epoch 24, loss 0.0003540171019267291\n",
      "epoch 25, loss 0.005697505082935095\n",
      "epoch 26, loss 0.00017307113739661872\n",
      "epoch 27, loss 4.617231388692744e-05\n",
      "epoch 28, loss 0.002060716738924384\n",
      "epoch 29, loss 1.8678987316889106e-06\n",
      "epoch 30, loss 0.0005423246184363961\n",
      "epoch 31, loss 0.0025556948967278004\n",
      "epoch 32, loss 0.014543167315423489\n"
     ]
    }
   ],
   "source": [
    "iterations = 20000\n",
    "epochs = iterations // len(train)\n",
    "test_data, test_targets = next(iter(test))\n",
    "\n",
    "train_acc = []\n",
    "test_acc = []\n",
    "\n",
    "def accuracy(pred, target):\n",
    "    winners = pred.argmax(dim=1)\n",
    "    corrects = (winners == target)\n",
    "    return corrects.sum().float() / float(target.size(0) )\n",
    "\n",
    "for epoch in range(epochs):\n",
    "    for idx, (data, target) in enumerate(train):\n",
    "        optimizer.zero_grad()\n",
    "\n",
    "        output = model(data)\n",
    "\n",
    "        loss = criterion(output, target)\n",
    "        # get gradients w.r.t to parameters\n",
    "        loss.backward()\n",
    "\n",
    "        # update parameters\n",
    "        optimizer.step()\n",
    "\n",
    "        if idx % 100 == 0:\n",
    "            train_accuracy = accuracy(output, target)\n",
    "            train_acc.append(train_accuracy.item())\n",
    "            \n",
    "            val_output = model(test_data)\n",
    "            test_accuracy = accuracy(val_output, test_targets)\n",
    "            test_acc.append(test_accuracy.item())\n",
    "        \n",
    "        \n",
    "    print('epoch {}, loss {}'.format(epoch, loss.item()))"
   ]
  },
  {
   "cell_type": "code",
   "execution_count": 30,
   "metadata": {},
   "outputs": [
    {
     "data": {
      "text/plain": [
       "<matplotlib.legend.Legend at 0x133404eb8>"
      ]
     },
     "execution_count": 30,
     "metadata": {},
     "output_type": "execute_result"
    },
    {
     "data": {
      "image/png": "[encoded data removed]",
      "text/plain": [
       "<Figure size 432x288 with 1 Axes>"
      ]
     },
     "metadata": {
      "needs_background": "light"
     },
     "output_type": "display_data"
    }
   ],
   "source": [
    "epochs = range(len(train_acc))\n",
    "plt.plot(epochs, train_acc, label=\"Train Acc\")\n",
    "plt.plot(epochs, test_acc, label=\"Test Acc\")\n",
    "plt.legend()"
   ]
  },
  {
   "cell_type": "markdown",
   "metadata": {},
   "source": [
    "# Excercise 3"
   ]
  },
  {
   "cell_type": "code",
   "execution_count": 31,
   "metadata": {},
   "outputs": [],
   "source": [
    "class MLP_w_DOUT(nn.Module):\n",
    "    def __init__(self):\n",
    "        super(MLP, self).__init__()\n",
    "        self.network = nn.Sequential(\n",
    "            nn.Linear(784, 1500),\n",
    "            nn.ReLU(),\n",
    "            nn.Dropout(),\n",
    "            nn.Linear(1500, 1500),\n",
    "            nn.ReLU(),\n",
    "            nn.Dropout(),\n",
    "            nn.Linear(1500, 1500),\n",
    "            nn.ReLU(),\n",
    "            nn.Dropout(),\n",
    "            # the function softmax is not included as nn.CrossEntropyLoss applies a softmax (source: https://discuss.pytorch.org/t/pytorch-equivalence-to-sparse-softmax-cross-entropy-with-logits-in-tensorflow/18727/2)\n",
    "            nn.Linear(1500, 10)\n",
    "        )\n",
    "        self.apply(weights_init)\n",
    "        \n",
    "    def forward(self, x):\n",
    "        return self.network(x) "
   ]
  },
  {
   "cell_type": "code",
   "execution_count": null,
   "metadata": {},
   "outputs": [],
   "source": []
  }
 ],
 "metadata": {
  "kernelspec": {
   "display_name": "Python 3",
   "language": "python",
   "name": "python3"
  },
  "language_info": {
   "codemirror_mode": {
    "name": "ipython",
    "version": 3
   },
   "file_extension": ".py",
   "mimetype": "text/x-python",
   "name": "python",
   "nbconvert_exporter": "python",
   "pygments_lexer": "ipython3",
   "version": "3.6.5"
  }
 },
 "nbformat": 4,
 "nbformat_minor": 4
}
